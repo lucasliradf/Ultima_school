{
 "cells": [
  {
   "cell_type": "code",
   "execution_count": 2,
   "id": "6d951171",
   "metadata": {
    "ExecuteTime": {
     "end_time": "2022-12-07T20:51:17.324869Z",
     "start_time": "2022-12-07T20:51:17.301632Z"
    }
   },
   "outputs": [],
   "source": [
    "##1 - Faça um programa que peça dois números e imprima o maior dele#\n",
    "\n",
    "def maior_numero (num1, num2):\n",
    "  maior = max(num1, num2)\n",
    "  msg = print('O maior número é:', maior)\n",
    "  return msg\n",
    "##queria saber como restringir tipos para as variáveis, como por ex so colocar int no num1 e num2"
   ]
  },
  {
   "cell_type": "code",
   "execution_count": 3,
   "id": "1b485af3",
   "metadata": {
    "ExecuteTime": {
     "end_time": "2022-12-07T20:51:42.692580Z",
     "start_time": "2022-12-07T20:51:42.670386Z"
    }
   },
   "outputs": [
    {
     "name": "stdout",
     "output_type": "stream",
     "text": [
      "O maior número é: 500\n"
     ]
    }
   ],
   "source": [
    "teste1 = maior_numero(120, 500)"
   ]
  },
  {
   "cell_type": "code",
   "execution_count": 21,
   "id": "28dc3782",
   "metadata": {
    "ExecuteTime": {
     "end_time": "2022-12-08T01:05:23.872412Z",
     "start_time": "2022-12-08T01:05:23.866429Z"
    }
   },
   "outputs": [],
   "source": [
    "##2 - Faça um script que peça um valor e mostre na tela se o valor é positivo ou negativo.\n",
    "\n",
    "def numero_qualquer (num1):\n",
    "  if num1 < 0:\n",
    "    numero = 'negativo'\n",
    "    msg = print('O número é', numero)\n",
    "  if num1 >= 1:\n",
    "    numero = 'positivo'\n",
    "    msg = print('O número é', numero)\n",
    "  return msg\n",
    "\n",
    "##gostaria de saber como adicionar uma expressao para caso o num1 = 0 e a saída seja \"o numero é zero\""
   ]
  },
  {
   "cell_type": "code",
   "execution_count": 22,
   "id": "04ee2a66",
   "metadata": {
    "ExecuteTime": {
     "end_time": "2022-12-08T01:05:25.787280Z",
     "start_time": "2022-12-08T01:05:25.756881Z"
    }
   },
   "outputs": [
    {
     "name": "stdout",
     "output_type": "stream",
     "text": [
      "O número é positivo\n",
      "O número é negativo\n"
     ]
    }
   ],
   "source": [
    "teste2 = numero_qualquer(3)\n",
    "\n",
    "teste3 = numero_qualquer(-3)"
   ]
  },
  {
   "cell_type": "code",
   "execution_count": 9,
   "id": "fe6d1baf",
   "metadata": {
    "ExecuteTime": {
     "end_time": "2022-12-07T20:54:58.997272Z",
     "start_time": "2022-12-07T20:54:56.725033Z"
    }
   },
   "outputs": [
    {
     "name": "stdout",
     "output_type": "stream",
     "text": [
      "Digite o Sexo (F, M): M\n",
      "M - Masculino\n"
     ]
    }
   ],
   "source": [
    "#Crie um programa que verifique se uma letra digitada é \"F\" ou \"M\". \n",
    "#Conforme a letra escrever: F - Feminino, M - Masculino, Sexo Inválido#\n",
    "sexo = str(input('Digite o Sexo (F, M): '))\n",
    "if sexo == 'F':\n",
    "  print('F - Feminino')\n",
    "if sexo == 'M':\n",
    "  print('M - Masculino')\n",
    "else:\n",
    "  print('Sexo Inválido')\n",
    "\n",
    "##nao entendi essa direito, inclusive o F está dando errado\n"
   ]
  },
  {
   "cell_type": "code",
   "execution_count": 15,
   "id": "6493d947",
   "metadata": {
    "ExecuteTime": {
     "end_time": "2022-12-07T21:04:48.554784Z",
     "start_time": "2022-12-07T21:04:45.199058Z"
    }
   },
   "outputs": [
    {
     "name": "stdout",
     "output_type": "stream",
     "text": [
      "Digite o nome de usuário:lucas\n",
      "Bom dia, lucas\n"
     ]
    }
   ],
   "source": [
    "##Crie um código em linguagem Python que peça o nome do usuário por meio da função input (). \n",
    "##Se o nome for \"Ultima\", imprima \"Bem-vindo, você é um(a) exclenete aluno(a)\".\n",
    "##Caso contrário, imprima \"Bom dia, NOME\". (Substitua o NOME pelo nome do usuário)\n",
    "nome = str(input('Digite o nome de usuário:'))\n",
    "if nome == 'Ultima':\n",
    "  print('Bem-vindo, você é um(a) excelente aluno(a)!')\n",
    "else:\n",
    "  print ('Bom dia,', nome)"
   ]
  },
  {
   "cell_type": "code",
   "execution_count": 1,
   "id": "5114c918",
   "metadata": {
    "ExecuteTime": {
     "end_time": "2022-12-11T13:06:50.602842Z",
     "start_time": "2022-12-11T13:06:47.666277Z"
    }
   },
   "outputs": [
    {
     "name": "stdout",
     "output_type": "stream",
     "text": [
      "Digite aqui um numero inteiro:15\n",
      "Este número é divisível por 5\n"
     ]
    }
   ],
   "source": [
    "##Escrever um programa em Python para ler um número inteiro e informar se ele é divisível por 5.\n",
    "num = int(input('Digite aqui um numero inteiro:'))\n",
    "if num % 5 == 0:\n",
    "  print('Este número é divisível por 5')\n",
    "else:\n",
    "  print('Este número não é divisível por 5')"
   ]
  },
  {
   "cell_type": "code",
   "execution_count": 2,
   "id": "6e648dc5",
   "metadata": {
    "ExecuteTime": {
     "end_time": "2022-12-11T13:07:50.607263Z",
     "start_time": "2022-12-11T13:07:48.754557Z"
    }
   },
   "outputs": [
    {
     "name": "stdout",
     "output_type": "stream",
     "text": [
      "Insira uma letra aqui: a\n",
      "Vogal\n"
     ]
    }
   ],
   "source": [
    "##Escreva um programa Python para verificar se uma letra do Alfabeto(Abecedário) é uma vogal ou consoante.\n",
    "letra = str(input('Insira uma letra aqui: '))\n",
    "\n",
    "if letra.isalpha() == False:\n",
    "  print('Invalido')\n",
    "elif letra == 'a':\n",
    "  print('Vogal')\n",
    "elif letra == 'e':\n",
    "  print('Vogal')\n",
    "elif letra == 'i':\n",
    "  print('Vogal')\n",
    "elif letra == 'o':\n",
    "  print('Vogal')\n",
    "elif letra == 'u':\n",
    "  print('Vogal')\n",
    "else:\n",
    "  print('Consoante')\n",
    "\n",
    "  \n",
    "  \n"
   ]
  },
  {
   "cell_type": "code",
   "execution_count": null,
   "id": "92a88d44",
   "metadata": {},
   "outputs": [],
   "source": []
  }
 ],
 "metadata": {
  "kernelspec": {
   "display_name": "Python 3 (ipykernel)",
   "language": "python",
   "name": "python3"
  },
  "language_info": {
   "codemirror_mode": {
    "name": "ipython",
    "version": 3
   },
   "file_extension": ".py",
   "mimetype": "text/x-python",
   "name": "python",
   "nbconvert_exporter": "python",
   "pygments_lexer": "ipython3",
   "version": "3.9.7"
  }
 },
 "nbformat": 4,
 "nbformat_minor": 5
}
